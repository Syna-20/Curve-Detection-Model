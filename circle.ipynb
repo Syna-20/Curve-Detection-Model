{
 "cells": [
  {
   "cell_type": "code",
   "execution_count": 2,
   "id": "6a53feb4",
   "metadata": {},
   "outputs": [
    {
     "ename": "KeyboardInterrupt",
     "evalue": "",
     "output_type": "error",
     "traceback": [
      "\u001b[1;31m---------------------------------------------------------------------------\u001b[0m",
      "\u001b[1;31mKeyboardInterrupt\u001b[0m                         Traceback (most recent call last)",
      "\u001b[1;32m~\\AppData\\Local\\Temp/ipykernel_6936/251824853.py\u001b[0m in \u001b[0;36m<module>\u001b[1;34m\u001b[0m\n\u001b[0;32m     36\u001b[0m     \u001b[0mcv2\u001b[0m\u001b[1;33m.\u001b[0m\u001b[0mimwrite\u001b[0m\u001b[1;33m(\u001b[0m\u001b[1;34m'Results/drawedImage12.png'\u001b[0m\u001b[1;33m,\u001b[0m\u001b[0mimage\u001b[0m\u001b[1;33m)\u001b[0m\u001b[1;33m\u001b[0m\u001b[1;33m\u001b[0m\u001b[0m\n\u001b[0;32m     37\u001b[0m \u001b[1;33m\u001b[0m\u001b[0m\n\u001b[1;32m---> 38\u001b[1;33m     \u001b[0mcv2\u001b[0m\u001b[1;33m.\u001b[0m\u001b[0mwaitKey\u001b[0m\u001b[1;33m(\u001b[0m\u001b[1;33m)\u001b[0m\u001b[1;33m\u001b[0m\u001b[1;33m\u001b[0m\u001b[0m\n\u001b[0m",
      "\u001b[1;31mKeyboardInterrupt\u001b[0m: "
     ]
    }
   ],
   "source": [
    "\n",
    "import cv2\n",
    "import numpy as np\n",
    "\n",
    "import glob\n",
    "# importing the csv library\n",
    "import csv\n",
    "import os\n",
    "# path = 'D:\\home\\Riot Games\\VALORANT\\live\\VALORANT.exe'\n",
    "\n",
    "\n",
    "\n",
    "images_path=glob.glob(r'C:\\Users\\HP\\OneDrive\\Desktop\\CURVE\\aa\\ShapeDetectionModel\\Curve_NoCurve_Dataset\\Curve_NoCurve_Dataset\\No_Curve_Images\\*.png')\n",
    "import sys\n",
    "sys.stdout=open(r\"C:\\Users\\HP\\OneDrive\\Desktop\\CURVE\\aa\\test3.csv\",\"a\")\n",
    "for img_path in images_path:\n",
    "    image = cv2.imread(img_path)\n",
    "    gray = cv2.cvtColor(image, cv2.COLOR_BGR2GRAY)\n",
    "    thresh = cv2.threshold(gray, 0, 255, cv2.THRESH_BINARY_INV + cv2.THRESH_OTSU)[1]\n",
    "\n",
    "\n",
    "    circles = cv2.HoughCircles(thresh, cv2.HOUGH_GRADIENT, 1, minDist=150, param1=200, param2=18, minRadius=20)\n",
    "   \n",
    "    \n",
    "    if circles is not None:\n",
    "        circles = np.round(circles[0, :]).astype(\"int\")\n",
    "        print(os.path.basename(img_path).split('/')[-1],' , ','1')\n",
    "       \n",
    "        \n",
    "        for (x,y,r) in circles:\n",
    "            cv2.circle(image, (x,y), r, (36,255,12), 3)\n",
    "    else:\n",
    "        print(os.path.basename(img_path).split('/')[-1],' , ','0')\n",
    "        \n",
    "    cv2.imshow('thresh', thresh)\n",
    "    cv2.imshow('image', image)\n",
    "    cv2.imwrite('Results/drawedImage12.png',image)\n",
    "\n",
    "    cv2.waitKey()"
   ]
  },
  {
   "cell_type": "code",
   "execution_count": null,
   "id": "3303b410",
   "metadata": {},
   "outputs": [],
   "source": []
  },
  {
   "cell_type": "code",
   "execution_count": null,
   "id": "3da4e1aa",
   "metadata": {},
   "outputs": [],
   "source": []
  }
 ],
 "metadata": {
  "kernelspec": {
   "display_name": "Python 3.10.4 64-bit",
   "language": "python",
   "name": "python3"
  },
  "language_info": {
   "codemirror_mode": {
    "name": "ipython",
    "version": 3
   },
   "file_extension": ".py",
   "mimetype": "text/x-python",
   "name": "python",
   "nbconvert_exporter": "python",
   "pygments_lexer": "ipython3",
   "version": "3.10.4"
  },
  "vscode": {
   "interpreter": {
    "hash": "a9cff5a362bc38ef45d817ae74b1af54d6a076e3d773891282bce078b815ba34"
   }
  }
 },
 "nbformat": 4,
 "nbformat_minor": 5
}
